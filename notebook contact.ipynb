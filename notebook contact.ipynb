{
 "cells": [
  {
   "cell_type": "code",
   "execution_count": null,
   "id": "6ad75967-950d-460a-9a9c-8e1dbda6bf19",
   "metadata": {},
   "outputs": [],
   "source": [
    "contacts={}\n",
    "\n",
    "def add_contact():\n",
    "    name=input(\"enter contact name:\")\n",
    "    phone=input(\"enter phone number:\")\n",
    "    email=input(\"enter email address:\")\n",
    "    contacts[name]={\"phone\":phone,\"email\":email}\n",
    "    print(f\" contact'{name}'added successfully!\")\n",
    " def view_contact():\n",
    "     if not contacts :\n",
    "         print(\"no contacts found\\n\")\n",
    "     else:\n",
    "         print(\"contact list:\")\n",
    "         for name,info in contacts.items():\n",
    "             print(f\"Name:{name},Phone:{info[\"phone\"]},\n",
    " Email:{info[\"email\"]\"}\n",
    "       print()\n",
    "  def search_contact():\n",
    "       name=input (\"enter name to search:\")\n",
    "       if name in contacts:\n",
    "       print(f'')\n",
    "  "
   ]
  }
 ],
 "metadata": {
  "kernelspec": {
   "display_name": "Python 3 (ipykernel)",
   "language": "python",
   "name": "python3"
  },
  "language_info": {
   "codemirror_mode": {
    "name": "ipython",
    "version": 3
   },
   "file_extension": ".py",
   "mimetype": "text/x-python",
   "name": "python",
   "nbconvert_exporter": "python",
   "pygments_lexer": "ipython3",
   "version": "3.13.5"
  }
 },
 "nbformat": 4,
 "nbformat_minor": 5
}
